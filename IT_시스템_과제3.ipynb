{
  "nbformat": 4,
  "nbformat_minor": 0,
  "metadata": {
    "colab": {
      "name": "IT 시스템 과제3",
      "provenance": [],
      "collapsed_sections": [],
      "mount_file_id": "16t1QoOHJl-9UsqW2_DLSNOEGbS_rTfMW",
      "authorship_tag": "ABX9TyMgeKegD01XLztC0/OUpufO",
      "include_colab_link": true
    },
    "kernelspec": {
      "name": "python3",
      "display_name": "Python 3"
    }
  },
  "cells": [
    {
      "cell_type": "markdown",
      "metadata": {
        "id": "view-in-github",
        "colab_type": "text"
      },
      "source": [
        "<a href=\"https://colab.research.google.com/github/kyhong0528/IT_system/blob/master/IT_%EC%8B%9C%EC%8A%A4%ED%85%9C_%EA%B3%BC%EC%A0%9C3.ipynb\" target=\"_parent\"><img src=\"https://colab.research.google.com/assets/colab-badge.svg\" alt=\"Open In Colab\"/></a>"
      ]
    },
    {
      "cell_type": "code",
      "metadata": {
        "id": "vFISVxoZ72H_",
        "colab_type": "code",
        "outputId": "ea09bac3-e36f-4a58-f87d-5987596b8773",
        "colab": {
          "base_uri": "https://localhost:8080/",
          "height": 375
        }
      },
      "source": [
        "from __future__ import absolute_import, division, print_function, unicode_literals\n",
        "!pip install -q tensorflow-gpu==2.0.0-rc1\n",
        "import tensorflow as tf\n",
        "import numpy as np\n",
        "import matplotlib.pyplot as plt\n",
        "import cv2\n",
        "from keras.preprocessing.image import ImageDataGenerator,array_to_img, img_to_array, load_img\n",
        "from tensorflow.keras.layers import Conv2D,Activation,MaxPooling2D\n",
        "'''\n",
        "load data\n",
        "'''\n",
        "mnist = tf.keras.datasets.mnist\n",
        "(x_train, y_train), (x_test, y_test) = mnist.load_data()\n",
        "\n",
        "'''\n",
        "data augmentation\n",
        "'''\n",
        " \n",
        "X_train = x_train.reshape(x_train.shape[0], 1, 28, 28)\n",
        "X_test = x_test.reshape(x_test.shape[0], 1, 28, 28)\n",
        "X_train = X_train.astype('float32')\n",
        "X_test = X_test.astype('float32')\n",
        "\n",
        "datagen = ImageDataGenerator(\n",
        "featurewise_center=True,horizontal_flip=True,\n",
        "rescale=1000,featurewise_std_normalization=True)\n",
        "# fit parameters from data\n",
        "datagen.fit(X_train)\n",
        "\n",
        "'''\n",
        "테스트, 트레이닝 여부, network 선택, mnist 변화 선택\n",
        "'''\n",
        "mode = 'test'\n",
        "network = 'sigmoid'\n",
        "mnist_variation = 'rotate'\n",
        " \n",
        "def resize(mnist):\n",
        "     i = 0;\n",
        "     for img in x_test:\n",
        "            \n",
        "            resized_img = cv2.resize(img, (50, 50))\n",
        "            train_data = np.array([i,resized_img])\n",
        "            i = i+1\n",
        "     return train_data\n",
        " \n",
        "if(mnist_variation == 'basic'):\n",
        "   x_test = x_test\n",
        "if(mnist_variation == 'rotate'): #회전\n",
        "  x_test = np.rot90(x_test, k =1, axes = (1,2))\n",
        "if(mnist_variation == 'flip'): #뒤집기\n",
        "  x_test = np.flip(x_test,(1,2))\n",
        "if(mnist_variation == 'scale'): # 축소\n",
        "   x_test = cv2.resize(x_test,(24,24))\n",
        "\n",
        "'''\n",
        "training session\n",
        "'''\n",
        "if(mode == 'train'):\n",
        "  if(network == 'basic'):\n",
        "    model = tf.keras.models.Sequential([\n",
        "    tf.keras.layers.Flatten(input_shape=(28, 28)),\n",
        "    tf.keras.layers.Dense(128, activation='relu'),\n",
        "    tf.keras.layers.Dropout(0.2),\n",
        "    tf.keras.layers.Dense(10, activation='softmax')\n",
        "    ])\n",
        "    '''\n",
        "    paprameter 저장\n",
        "    '''\n",
        "    model.compile(optimizer='adam',\n",
        "              loss='sparse_categorical_crossentropy',\n",
        "              metrics=['accuracy'])\n",
        "    model.fit(X_train, y_train, epochs=5)\n",
        "    model.save('/tmp/model_basic')\n",
        "\n",
        "  if(network == 'sigmoid'):\n",
        "    model = tf.keras.models.Sequential([\n",
        "    tf.keras.layers.Flatten(input_shape=(28, 28)),\n",
        "    tf.keras.layers.Dense(128, activation='sigmoid'),\n",
        "    tf.keras.layers.Dropout(0.2),\n",
        "    tf.keras.layers.Dense(10, activation='softmax')\n",
        "    ])\n",
        "    '''\n",
        "    paprameter 저장\n",
        "    '''\n",
        "    model.compile(optimizer='adam',\n",
        "              loss='sparse_categorical_crossentropy',\n",
        "              metrics=['accuracy'])\n",
        "    model.fit(X_train, y_train, epochs=5)\n",
        "    model.save('/tmp/sigmoid')\n",
        "\n",
        "  if(network == 'tanh'):\n",
        "    model = tf.keras.models.Sequential([\n",
        "    tf.keras.layers.Flatten(input_shape=(28, 28)),\n",
        "    tf.keras.layers.Dense(128, activation='tanh'),\n",
        "    tf.keras.layers.Dropout(0.2),\n",
        "    tf.keras.layers.Dense(10, activation='softmax')\n",
        "    ])\n",
        "    '''\n",
        "    paprameter 저장\n",
        "    '''\n",
        "    model.compile(optimizer='adam',\n",
        "              loss='sparse_categorical_crossentropy',\n",
        "              metrics=['accuracy'])\n",
        "    model.fit(X_train, y_train, epochs=5)\n",
        "    model.save('/tmp/tanh')\n",
        " \n",
        "  if(network == 'more_layer'):\n",
        "    model = tf.keras.models.Sequential([\n",
        "    tf.keras.layers.Flatten(input_shape=(28, 28)),\n",
        "    tf.keras.layers.Dense(128, activation='relu'),\n",
        "    tf.keras.layers.Dropout(0.2),\n",
        "    tf.keras.layers.Dense(128, activation='relu'),\n",
        "    tf.keras.layers.Dropout(0.2),\n",
        "    tf.keras.layers.Dense(128, activation='relu'),\n",
        "    tf.keras.layers.Dropout(0.2),\n",
        "    tf.keras.layers.Dense(128, activation='relu'),\n",
        "    tf.keras.layers.Dropout(0.2),\n",
        "    tf.keras.layers.Dense(10, activation='softmax')\n",
        "    ])\n",
        "    '''\n",
        "    paprameter 저장\n",
        "    '''\n",
        "    model.compile(optimizer='adam',\n",
        "              loss='sparse_categorical_crossentropy',\n",
        "              metrics=['accuracy'])\n",
        "    model.fit(x_train, y_train, epochs=5)\n",
        "    model.save('/tmp/more_layer')\n",
        "\n",
        "  if(network == 'con'):\n",
        "    model = tf.keras.models.Sequential([\n",
        "    tf.keras.layers.Conv2D(32, 3, activation='relu',\n",
        "                           kernel_regularizer=tf.keras.regularizers.l2(0.02),\n",
        "                           input_shape=(28, 28,1)),\n",
        "    tf.keras.layers.MaxPooling2D(),\n",
        "    tf.keras.layers.Flatten(),\n",
        "    tf.keras.layers.Dropout(0.2),\n",
        "    tf.keras.layers.Dense(128, activation='relu'),\n",
        "    tf.keras.layers.BatchNormalization(),\n",
        "    tf.keras.layers.Dense(10, activation='softmax')\n",
        "    ])\n",
        "    \n",
        "\n",
        "    model.compile(optimizer='adam',\n",
        "              loss='sparse_categorical_crossentropy',\n",
        "              metrics=['accuracy'])\n",
        "    print(x_train.shape)\n",
        "    model.fit(x_train, epochs=5)\n",
        "    model.save('/tmp/con')\n",
        "'''\n",
        "test session\n",
        "'''\n",
        "if(mode == 'test'):\n",
        "  if(network == 'basic'):\n",
        "   loaded_model = tf.keras.models.load_model('/tmp/model_basic')\n",
        "  if(network == 'tanh'):\n",
        "   loaded_model = tf.keras.models.load_model('/tmp/tanh')\n",
        "  if(network == 'sigmoid'):\n",
        "   loaded_model = tf.keras.models.load_model('/tmp/sigmoid')\n",
        "  if(network == 'more_layer'):\n",
        "    loaded_model = tf.keras.models.load_model('/tmp/more_layer')\n",
        "  if(network == 'con'):\n",
        "    loaded_model = tf.keras.models.load_model('/tmp/con')\n",
        " \n",
        "  loaded_model.evaluate(x_test,  y_test, verbose=2)\n",
        "  \n",
        "  print(y_test[3])\n",
        " \n",
        "#model.evaluate(x_test,  y_test, verbose=2)\n",
        " \n",
        "plt.imshow(x_test[3])\n",
        "\n"
      ],
      "execution_count": 64,
      "outputs": [
        {
          "output_type": "stream",
          "text": [
            "/usr/local/lib/python3.6/dist-packages/keras_preprocessing/image/image_data_generator.py:947: UserWarning: Expected input to be images (as Numpy array) following the data format convention \"channels_last\" (channels on axis 3), i.e. expected either 1, 3 or 4 channels on axis 3. However, it was passed an array with shape (60000, 1, 28, 28) (28 channels).\n",
            "  ' channels).')\n"
          ],
          "name": "stderr"
        },
        {
          "output_type": "stream",
          "text": [
            "313/313 - 0s - loss: 13.1366 - accuracy: 0.1102\n",
            "0\n"
          ],
          "name": "stdout"
        },
        {
          "output_type": "execute_result",
          "data": {
            "text/plain": [
              "<matplotlib.image.AxesImage at 0x7f5bba4db278>"
            ]
          },
          "metadata": {
            "tags": []
          },
          "execution_count": 64
        },
        {
          "output_type": "display_data",
          "data": {
            "image/png": "[encoded data removed]",
            "text/plain": [
              "<Figure size 432x288 with 1 Axes>"
            ]
          },
          "metadata": {
            "tags": [],
            "needs_background": "light"
          }
        }
      ]
    }
  ]
}